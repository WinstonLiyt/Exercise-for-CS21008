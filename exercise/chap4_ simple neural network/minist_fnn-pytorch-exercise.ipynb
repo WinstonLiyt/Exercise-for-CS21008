{
 "cells": [
  {
   "cell_type": "markdown",
   "metadata": {},
   "source": [
    "## 准备数据"
   ]
  },
  {
   "cell_type": "code",
   "execution_count": 11,
   "metadata": {},
   "outputs": [],
   "source": [
    "import torch\n",
    "from torchvision import datasets, transforms\n",
    "from torch.utils.data import DataLoader\n",
    "from torch import nn, optim\n",
    "import numpy as np\n",
    "\n",
    "def mnist_dataset():\n",
    "    transform = transforms.Compose([\n",
    "        transforms.ToTensor(),\n",
    "        transforms.Normalize((0.5,), (0.5,))  # 归一化\n",
    "    ])\n",
    "    train_dataset = datasets.MNIST(root='./data', train=True, download=True, transform=transform)\n",
    "    test_dataset = datasets.MNIST(root='./data', train=False, download=True, transform=transform)\n",
    "    train_loader = DataLoader(train_dataset, batch_size=32, shuffle=True)\n",
    "    test_loader = DataLoader(test_dataset, batch_size=32, shuffle=False)\n",
    "    return train_loader, test_loader"
   ]
  },
  {
   "cell_type": "code",
   "execution_count": 12,
   "metadata": {},
   "outputs": [],
   "source": [
    "class MyModel(nn.Module):\n",
    "    def __init__(self):\n",
    "        ####################\n",
    "        '''声明模型对应的参数'''\n",
    "        ####################\n",
    "        super(MyModel, self).__init__()\n",
    "        self.layer1 = nn.Linear(784, 256)\n",
    "        self.layer2 = nn.Linear(256, 128)\n",
    "        self.layer3 = nn.Linear(128, 10)\n",
    "        \n",
    "    def forward(self, x):\n",
    "        ####################\n",
    "        '''实现模型函数体，返回未归一化的logits'''\n",
    "        ####################\n",
    "        x = x.view(-1, 784)\n",
    "        x = torch.relu(self.layer1(x))\n",
    "        x = torch.relu(self.layer2(x))\n",
    "        return self.layer3(x)\n",
    "\n",
    "model = MyModel()\n",
    "\n",
    "optimizer = optim.Adam(model.parameters())"
   ]
  },
  {
   "cell_type": "markdown",
   "metadata": {},
   "source": [
    "## 计算 loss"
   ]
  },
  {
   "cell_type": "code",
   "execution_count": 13,
   "metadata": {},
   "outputs": [],
   "source": [
    "from torch.nn import functional as F\n",
    "\n",
    "# 定义损失计算\n",
    "def compute_loss(logits, labels):\n",
    "    return F.cross_entropy(logits, labels)\n",
    "\n",
    "# 定义准确率计算\n",
    "def compute_accuracy(logits, labels):\n",
    "    predictions = logits.argmax(dim=1, keepdim=True).squeeze()\n",
    "    correct = predictions.eq(labels.view_as(predictions)).sum().item()\n",
    "    accuracy = correct / len(labels)\n",
    "    return accuracy\n",
    "\n",
    "# 定义单步训练过程\n",
    "def train_one_step(model, optimizer, x, y):\n",
    "    model.train()\n",
    "    optimizer.zero_grad()\n",
    "    logits = model(x)\n",
    "    loss = compute_loss(logits, y)\n",
    "    loss.backward()\n",
    "    optimizer.step()\n",
    "    accuracy = compute_accuracy(logits, y)\n",
    "    return loss.item(), accuracy"
   ]
  },
  {
   "cell_type": "code",
   "execution_count": 14,
   "metadata": {},
   "outputs": [],
   "source": [
    "# 定义训练和测试函数\n",
    "def train_one_epoch(epoch, model, optimizer, data_loader):\n",
    "    model.train()\n",
    "    total_loss = 0\n",
    "    total_correct = 0\n",
    "    total_samples = 0\n",
    "    for X, y in data_loader:\n",
    "        loss, accuracy = train_one_step(model, optimizer, X, y)\n",
    "        total_loss += loss * X.size(0)\n",
    "        total_correct += accuracy * X.size(0)\n",
    "        total_samples += X.size(0)\n",
    "    print(f'Epoch: {epoch}, Training: Loss {total_loss / total_samples}, Accuracy {total_correct / total_samples}')\n",
    "\n",
    "def test(model, data_loader):\n",
    "    model.eval()\n",
    "    test_loss = 0\n",
    "    correct = 0\n",
    "    with torch.no_grad():\n",
    "        for X, y in data_loader:\n",
    "            logits = model(X)\n",
    "            test_loss += compute_loss(logits, y).item() * X.size(0)\n",
    "            correct += (logits.argmax(1) == y).type(torch.float).sum().item()\n",
    "    test_loss /= len(data_loader.dataset)\n",
    "    accuracy = correct / len(data_loader.dataset)\n",
    "    print(f'Test Loss: {test_loss}, Test Accuracy: {accuracy}')"
   ]
  },
  {
   "cell_type": "markdown",
   "metadata": {},
   "source": [
    "### 实际训练与测试"
   ]
  },
  {
   "cell_type": "code",
   "execution_count": 16,
   "metadata": {},
   "outputs": [
    {
     "name": "stdout",
     "output_type": "stream",
     "text": [
      "Epoch: 0, Training: Loss 0.07856199843777964, Accuracy 0.9747666666666667\n",
      "Epoch: 1, Training: Loss 0.06713325431081467, Accuracy 0.97815\n",
      "Epoch: 2, Training: Loss 0.060229327476909386, Accuracy 0.9806166666666667\n",
      "Epoch: 3, Training: Loss 0.056767978312191554, Accuracy 0.98175\n",
      "Epoch: 4, Training: Loss 0.052404679072772464, Accuracy 0.9825666666666667\n",
      "Epoch: 5, Training: Loss 0.047222310828578584, Accuracy 0.9845166666666667\n",
      "Epoch: 6, Training: Loss 0.04487329669001629, Accuracy 0.9857166666666667\n",
      "Epoch: 7, Training: Loss 0.03952409928478592, Accuracy 0.9869666666666667\n",
      "Epoch: 8, Training: Loss 0.040703595763954215, Accuracy 0.9872666666666666\n",
      "Epoch: 9, Training: Loss 0.035657177080215964, Accuracy 0.9882333333333333\n",
      "Test Loss: 0.09386542378545941, Test Accuracy: 0.9777\n"
     ]
    }
   ],
   "source": [
    "train_loader, test_loader = mnist_dataset()\n",
    "\n",
    "# 每个epoch（整个测试集）训练一次\n",
    "for epoch in range(0, 10):\n",
    "    train_one_epoch(epoch, model, optimizer, train_loader)\n",
    "\n",
    "test(model, test_loader)"
   ]
  }
 ],
 "metadata": {
  "kernelspec": {
   "display_name": "pytorch",
   "language": "python",
   "name": "python3"
  },
  "language_info": {
   "codemirror_mode": {
    "name": "ipython",
    "version": 3
   },
   "file_extension": ".py",
   "mimetype": "text/x-python",
   "name": "python",
   "nbconvert_exporter": "python",
   "pygments_lexer": "ipython3",
   "version": "3.8.18"
  }
 },
 "nbformat": 4,
 "nbformat_minor": 2
}
