{
 "cells": [
  {
   "cell_type": "markdown",
   "metadata": {},
   "source": [
    "## 准备数据"
   ]
  },
  {
   "cell_type": "code",
   "execution_count": 1,
   "metadata": {},
   "outputs": [],
   "source": [
    "import os\n",
    "import numpy as np\n",
    "import tensorflow as tf\n",
    "from tensorflow import keras\n",
    "from tensorflow.keras import layers, optimizers, datasets\n",
    "\n",
    "os.environ['TF_CPP_MIN_LOG_LEVEL'] = '2'  # or any {'0', '1', '2'}\n",
    "\n",
    "def mnist_dataset():\n",
    "    (x, y), (x_test, y_test) = datasets.mnist.load_data()\n",
    "    #normalize\n",
    "    x = x/255.0\n",
    "    x_test = x_test/255.0\n",
    "    \n",
    "    return (x, y), (x_test, y_test)"
   ]
  },
  {
   "cell_type": "code",
   "execution_count": 2,
   "metadata": {},
   "outputs": [
    {
     "name": "stdout",
     "output_type": "stream",
     "text": [
      "[(1, 'a'), (2, 'b'), (3, 'c'), (4, 'd')]\n"
     ]
    }
   ],
   "source": [
    "print(list(zip([1, 2, 3, 4], ['a', 'b', 'c', 'd'])))"
   ]
  },
  {
   "cell_type": "markdown",
   "metadata": {},
   "source": [
    "## 建立模型"
   ]
  },
  {
   "cell_type": "code",
   "execution_count": 6,
   "metadata": {},
   "outputs": [],
   "source": [
    "class myModel:\n",
    "    def __init__(self):\n",
    "        ####################\n",
    "        '''声明模型对应的参数'''\n",
    "        ####################\n",
    "        self.W1 = tf.Variable(tf.random.normal([784, 256]), trainable=True)\n",
    "        self.b1 = tf.Variable(tf.random.normal([256]), trainable=True)\n",
    "        self.W2 = tf.Variable(tf.random.normal([256, 128]), trainable=True)\n",
    "        self.b2 = tf.Variable(tf.random.normal([128]), trainable=True)\n",
    "        self.W3 = tf.Variable(tf.random.normal([128, 10]), trainable=True)\n",
    "        self.b3 = tf.Variable(tf.random.normal([10]), trainable=True)\n",
    "        self.trainable_variables = [self.W1, self.b1, self.W2, self.b2, self.W3, self.b3]\n",
    "\n",
    "    def __call__(self, x):\n",
    "        ####################\n",
    "        '''实现模型函数体，返回未归一化的logits'''\n",
    "        ####################\n",
    "        x = tf.reshape(x, [-1, 784])\n",
    "        h1 = tf.nn.relu(x @ self.W1 + self.b1)\n",
    "        h2 = tf.nn.relu(h1 @ self.W2 + self.b2)\n",
    "        logits = h2 @ self.W3 + self.b3\n",
    "        return logits\n",
    "        \n",
    "model = myModel()\n",
    "\n",
    "optimizer = optimizers.Adam()"
   ]
  },
  {
   "cell_type": "markdown",
   "metadata": {},
   "source": [
    "## 计算 loss"
   ]
  },
  {
   "cell_type": "code",
   "execution_count": 7,
   "metadata": {},
   "outputs": [],
   "source": [
    "@tf.function\n",
    "def compute_loss(logits, labels):\n",
    "    return tf.reduce_mean(\n",
    "        tf.nn.sparse_softmax_cross_entropy_with_logits(\n",
    "            logits=logits, labels=labels))\n",
    "\n",
    "@tf.function\n",
    "def compute_accuracy(logits, labels):\n",
    "    predictions = tf.argmax(logits, axis=1)\n",
    "    return tf.reduce_mean(tf.cast(tf.equal(predictions, labels), tf.float32))\n",
    "\n",
    "@tf.function\n",
    "def train_one_step(model, optimizer, x, y):\n",
    "    with tf.GradientTape() as tape:\n",
    "        logits = model(x)\n",
    "        loss = compute_loss(logits, y)\n",
    "\n",
    "    # compute gradient\n",
    "    trainable_vars = [model.W1, model.W2, model.b1, model.b2]\n",
    "    grads = tape.gradient(loss, trainable_vars)\n",
    "    for g, v in zip(grads, trainable_vars):\n",
    "        v.assign_sub(0.01*g)\n",
    "\n",
    "    accuracy = compute_accuracy(logits, y)\n",
    "\n",
    "    # loss and accuracy is scalar tensor\n",
    "    return loss, accuracy\n",
    "\n",
    "@tf.function\n",
    "def test(model, x, y):\n",
    "    logits = model(x)\n",
    "    loss = compute_loss(logits, y)\n",
    "    accuracy = compute_accuracy(logits, y)\n",
    "    return loss, accuracy"
   ]
  },
  {
   "cell_type": "markdown",
   "metadata": {},
   "source": [
    "## 实际训练"
   ]
  },
  {
   "cell_type": "code",
   "execution_count": 8,
   "metadata": {},
   "outputs": [
    {
     "name": "stdout",
     "output_type": "stream",
     "text": [
      "epoch 0 : loss 1198.4199 ; accuracy 0.06025\n",
      "epoch 1 : loss 727.4111 ; accuracy 0.15238333\n",
      "epoch 2 : loss 587.6943 ; accuracy 0.18146667\n",
      "epoch 3 : loss 437.3824 ; accuracy 0.27423334\n",
      "epoch 4 : loss 333.5428 ; accuracy 0.33973333\n",
      "epoch 5 : loss 274.93164 ; accuracy 0.39145\n",
      "epoch 6 : loss 247.21707 ; accuracy 0.42666668\n",
      "epoch 7 : loss 227.10622 ; accuracy 0.45783332\n",
      "epoch 8 : loss 211.56985 ; accuracy 0.4792\n",
      "epoch 9 : loss 198.21573 ; accuracy 0.50123334\n",
      "epoch 10 : loss 187.13916 ; accuracy 0.5178667\n",
      "epoch 11 : loss 177.6266 ; accuracy 0.53506666\n",
      "epoch 12 : loss 169.34087 ; accuracy 0.5484167\n",
      "epoch 13 : loss 162.06047 ; accuracy 0.56161666\n",
      "epoch 14 : loss 155.57683 ; accuracy 0.57276666\n",
      "epoch 15 : loss 149.75363 ; accuracy 0.58376664\n",
      "epoch 16 : loss 144.49825 ; accuracy 0.5937833\n",
      "epoch 17 : loss 139.71014 ; accuracy 0.60285\n",
      "epoch 18 : loss 135.32462 ; accuracy 0.6113833\n",
      "epoch 19 : loss 131.30399 ; accuracy 0.61915\n",
      "epoch 20 : loss 127.60723 ; accuracy 0.62596667\n",
      "epoch 21 : loss 124.181786 ; accuracy 0.6328167\n",
      "epoch 22 : loss 120.99815 ; accuracy 0.63895\n",
      "epoch 23 : loss 118.022934 ; accuracy 0.6445\n",
      "epoch 24 : loss 115.23179 ; accuracy 0.65003335\n",
      "epoch 25 : loss 112.603615 ; accuracy 0.6555833\n",
      "epoch 26 : loss 110.13525 ; accuracy 0.661\n",
      "epoch 27 : loss 107.80674 ; accuracy 0.66555\n",
      "epoch 28 : loss 105.60353 ; accuracy 0.67041665\n",
      "epoch 29 : loss 103.52653 ; accuracy 0.6745667\n",
      "epoch 30 : loss 101.56237 ; accuracy 0.67855\n",
      "epoch 31 : loss 99.6996 ; accuracy 0.68236667\n",
      "epoch 32 : loss 97.92744 ; accuracy 0.68633336\n",
      "epoch 33 : loss 96.24054 ; accuracy 0.6901\n",
      "epoch 34 : loss 94.63403 ; accuracy 0.69345\n",
      "epoch 35 : loss 93.10204 ; accuracy 0.6972333\n",
      "epoch 36 : loss 91.640686 ; accuracy 0.70053333\n",
      "epoch 37 : loss 90.24601 ; accuracy 0.70378333\n",
      "epoch 38 : loss 88.912506 ; accuracy 0.7069333\n",
      "epoch 39 : loss 87.63238 ; accuracy 0.70965\n",
      "epoch 40 : loss 86.40128 ; accuracy 0.71246666\n",
      "epoch 41 : loss 85.22125 ; accuracy 0.71531665\n",
      "epoch 42 : loss 84.08713 ; accuracy 0.71795\n",
      "epoch 43 : loss 82.99216 ; accuracy 0.72078335\n",
      "epoch 44 : loss 81.9377 ; accuracy 0.72318333\n",
      "epoch 45 : loss 80.918076 ; accuracy 0.72536665\n",
      "epoch 46 : loss 79.934715 ; accuracy 0.7279\n",
      "epoch 47 : loss 78.98658 ; accuracy 0.7299333\n",
      "epoch 48 : loss 78.06966 ; accuracy 0.7322\n",
      "epoch 49 : loss 77.18138 ; accuracy 0.73461664\n",
      "test loss 72.42508 ; accuracy 0.7424\n"
     ]
    }
   ],
   "source": [
    "train_data, test_data = mnist_dataset()\n",
    "for epoch in range(50):\n",
    "    loss, accuracy = train_one_step(model, optimizer, \n",
    "                                    tf.constant(train_data[0], dtype=tf.float32), \n",
    "                                    tf.constant(train_data[1], dtype=tf.int64))\n",
    "    print('epoch', epoch, ': loss', loss.numpy(), '; accuracy', accuracy.numpy())\n",
    "loss, accuracy = test(model, \n",
    "                      tf.constant(test_data[0], dtype=tf.float32), \n",
    "                      tf.constant(test_data[1], dtype=tf.int64))\n",
    "\n",
    "print('test loss', loss.numpy(), '; accuracy', accuracy.numpy())"
   ]
  }
 ],
 "metadata": {
  "kernelspec": {
   "display_name": "Python 3",
   "language": "python",
   "name": "python3"
  },
  "language_info": {
   "codemirror_mode": {
    "name": "ipython",
    "version": 3
   },
   "file_extension": ".py",
   "mimetype": "text/x-python",
   "name": "python",
   "nbconvert_exporter": "python",
   "pygments_lexer": "ipython3",
   "version": "3.8.18"
  }
 },
 "nbformat": 4,
 "nbformat_minor": 2
}
